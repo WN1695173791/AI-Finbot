{
 "metadata": {
  "language_info": {
   "codemirror_mode": {
    "name": "ipython",
    "version": 3
   },
   "file_extension": ".py",
   "mimetype": "text/x-python",
   "name": "python",
   "nbconvert_exporter": "python",
   "pygments_lexer": "ipython3",
   "version": "3.9.2-final"
  },
  "orig_nbformat": 2,
  "kernelspec": {
   "name": "python3",
   "display_name": "Python 3.9.2 64-bit ('venv')",
   "metadata": {
    "interpreter": {
     "hash": "f50ef5d1313fa9619dc818cc9edd7ca4e83b897e53d22fefd949e28384a2021b"
    }
   }
  }
 },
 "nbformat": 4,
 "nbformat_minor": 2,
 "cells": [
  {
   "source": [
    "**Workflow:**\n",
    "<br>\n",
    "> Set portfolio value alpha=1\n",
    "\n",
    "> Select a riskless asset (e.g. btc, aud)\n",
    "\n",
    "> Select top K trading asset based on volume => K = top_k(volumes, k)\n",
    "\n",
    "> In buffer, collect minimum required tickers for selected assets to implement TA => buffer(p_0....p_current) for each K\n",
    "\n",
    "> Based on the tickers, use TA for feature engineering => F = ta(buffer) for each K\n",
    "\n",
    "> For number of features F and number of markets K, build a FxK matrix => input = (F,K)\n",
    "\n",
    "> Use CNN to feed in FxK matrix and output w softmax vector (each element of w represent portfolio weight), w_hat = CNN(input)\n",
    "\n",
    "> Calculate relative return for each asset => y = return(p_current, p_previous)\n",
    "\n",
    "> Dot product y and w to get the new portfolio value\n",
    "\n",
    "    a. Calculate reward (change of portfolio value) \n",
    "    b. Use reward to train the NN (Reward maximization)\n",
    "    \n",
    "> or:\n",
    "\n",
    "    a. Select optimal weights based on relative return => w*(w_previous, y)\n",
    "    b. Calculate max port. value (dot product between w* and y)\n",
    "    c. Calculate regret (max. port value-actual port value)\n",
    "    d. Use regret to train the NN (Regret mininization)\n",
    "\n",
    "\n"
   ],
   "cell_type": "markdown",
   "metadata": {}
  },
  {
   "cell_type": "code",
   "execution_count": 6,
   "metadata": {},
   "outputs": [],
   "source": [
    "import bot\n",
    "import settings"
   ]
  },
  {
   "cell_type": "code",
   "execution_count": 7,
   "metadata": {},
   "outputs": [],
   "source": [
    "arya = bot.Bot(\"Arya\")"
   ]
  },
  {
   "cell_type": "code",
   "execution_count": 8,
   "metadata": {},
   "outputs": [
    {
     "output_type": "stream",
     "name": "stdout",
     "text": [
      "Arya: ~(^_^)~\n"
     ]
    }
   ],
   "source": [
    "arya.hello()"
   ]
  },
  {
   "cell_type": "code",
   "execution_count": null,
   "metadata": {},
   "outputs": [],
   "source": []
  }
 ]
}