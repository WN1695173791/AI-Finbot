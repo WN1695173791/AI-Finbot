{
  "nbformat": 4,
  "nbformat_minor": 0,
  "metadata": {
    "language_info": {
      "codemirror_mode": {
        "name": "ipython",
        "version": 3
      },
      "file_extension": ".py",
      "mimetype": "text/x-python",
      "name": "python",
      "nbconvert_exporter": "python",
      "pygments_lexer": "ipython3",
      "version": "3.9.2-final"
    },
    "orig_nbformat": 2,
    "kernelspec": {
      "name": "python3",
      "display_name": "Python 3.9.2 64-bit ('venv')",
      "metadata": {
        "interpreter": {
          "hash": "f50ef5d1313fa9619dc818cc9edd7ca4e83b897e53d22fefd949e28384a2021b"
        }
      }
    },
    "colab": {
      "name": "notebook.ipynb",
      "provenance": []
    }
  },
  "cells": [
    {
      "cell_type": "markdown",
      "metadata": {
        "id": "7PWSwiLO5TGZ"
      },
      "source": [
        "**Workflow:**\n",
        "<br>\n",
        "> Set portfolio value alpha=1\n",
        "\n",
        "> Select a riskless asset (e.g. btc, aud)\n",
        "\n",
        "> Select top K trading asset based on volume => K = top_k(volumes, k)\n",
        "\n",
        "> In buffer, collect minimum required tickers for selected assets to implement TA => buffer(p_0....p_current) for each K\n",
        "\n",
        "> Based on the tickers, use TA for feature engineering => F = ta(buffer) for each K\n",
        "\n",
        "> For number of features F and number of markets K, build a FxK matrix => input = (F,K)\n",
        "\n",
        "> Use CNN to feed in FxK matrix and output w softmax vector (each element of w represent portfolio weight), w_hat = CNN(input)\n",
        "\n",
        "> Calculate relative return for each asset => y = return(p_current, p_previous)\n",
        "\n",
        "> Dot product y and w to get the new portfolio value\n",
        "\n",
        "    a. Calculate reward (change of portfolio value) \n",
        "    b. Use reward to train the NN (Reward maximization)\n",
        "    \n",
        "> or:\n",
        "\n",
        "    a. Select optimal weights based on relative return => w*(w_previous, y)\n",
        "    b. Calculate max port. value (dot product between w* and y)\n",
        "    c. Calculate regret (max. port value-actual port value)\n",
        "    d. Use regret to train the NN (Regret mininization)\n",
        "\n",
        "\n"
      ]
    },
    {
      "cell_type": "code",
      "metadata": {
        "id": "Tno88wjS5TGh",
        "outputId": "9e9be827-2e28-4282-fe4f-c66f2c365ab6",
        "colab": {
          "base_uri": "https://localhost:8080/",
          "height": 335
        }
      },
      "source": [
        "import bot\n",
        "import settings"
      ],
      "execution_count": 1,
      "outputs": [
        {
          "output_type": "error",
          "ename": "ModuleNotFoundError",
          "evalue": "ignored",
          "traceback": [
            "\u001b[0;31m---------------------------------------------------------------------------\u001b[0m",
            "\u001b[0;31mModuleNotFoundError\u001b[0m                       Traceback (most recent call last)",
            "\u001b[0;32m<ipython-input-1-ae9637ca64db>\u001b[0m in \u001b[0;36m<module>\u001b[0;34m()\u001b[0m\n\u001b[0;32m----> 1\u001b[0;31m \u001b[0;32mimport\u001b[0m \u001b[0mbot\u001b[0m\u001b[0;34m\u001b[0m\u001b[0;34m\u001b[0m\u001b[0m\n\u001b[0m\u001b[1;32m      2\u001b[0m \u001b[0;32mimport\u001b[0m \u001b[0msettings\u001b[0m\u001b[0;34m\u001b[0m\u001b[0;34m\u001b[0m\u001b[0m\n",
            "\u001b[0;31mModuleNotFoundError\u001b[0m: No module named 'bot'",
            "",
            "\u001b[0;31m---------------------------------------------------------------------------\u001b[0;32m\nNOTE: If your import is failing due to a missing package, you can\nmanually install dependencies using either !pip or !apt.\n\nTo view examples of installing some common dependencies, click the\n\"Open Examples\" button below.\n\u001b[0;31m---------------------------------------------------------------------------\u001b[0m\n"
          ]
        }
      ]
    },
    {
      "cell_type": "code",
      "metadata": {
        "id": "JNa7-nrh5TGi"
      },
      "source": [
        "arya = bot.Bot(\"Arya\")"
      ],
      "execution_count": null,
      "outputs": []
    },
    {
      "cell_type": "code",
      "metadata": {
        "id": "dDEcKNpn5TGi",
        "outputId": "42b9d09e-162e-47ea-db6c-b1f2365946a2"
      },
      "source": [
        "arya.hello()"
      ],
      "execution_count": null,
      "outputs": [
        {
          "output_type": "stream",
          "text": [
            "Arya: ~(^_^)~\n"
          ],
          "name": "stdout"
        }
      ]
    },
    {
      "cell_type": "code",
      "metadata": {
        "id": "3qZ1Gon55TGj",
        "outputId": "5c4302f5-1935-47b0-e4ca-54a8beafbfef",
        "colab": {
          "base_uri": "https://localhost:8080/"
        }
      },
      "source": [
        "2+3"
      ],
      "execution_count": 2,
      "outputs": [
        {
          "output_type": "execute_result",
          "data": {
            "text/plain": [
              "5"
            ]
          },
          "metadata": {
            "tags": []
          },
          "execution_count": 2
        }
      ]
    },
    {
      "cell_type": "code",
      "metadata": {
        "id": "iDtCD0575hEF"
      },
      "source": [
        ""
      ],
      "execution_count": null,
      "outputs": []
    }
  ]
}